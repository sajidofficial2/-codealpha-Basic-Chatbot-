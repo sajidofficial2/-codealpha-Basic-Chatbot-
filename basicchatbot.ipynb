{
  "nbformat": 4,
  "nbformat_minor": 0,
  "metadata": {
    "colab": {
      "provenance": []
    },
    "kernelspec": {
      "name": "python3",
      "display_name": "Python 3"
    },
    "language_info": {
      "name": "python"
    }
  },
  "cells": [
    {
      "cell_type": "code",
      "execution_count": null,
      "metadata": {
        "colab": {
          "base_uri": "https://localhost:8080/"
        },
        "id": "U0XsRuYRohWE",
        "outputId": "a6a62206-6469-4b5c-e989-94ca88d5bafa"
      },
      "outputs": [
        {
          "output_type": "stream",
          "name": "stdout",
          "text": [
            "Chatbot: Hi! Type something to talk. Type 'bye' to exit.\n",
            "You: hello\n",
            "Chatbot: Hi!\n",
            "You: how are you\n",
            "Chatbot: I'm fine, thanks!\n"
          ]
        }
      ],
      "source": [
        "def chatbot():\n",
        "    print(\"Chatbot: Hi! Type something to talk. Type 'bye' to exit.\")\n",
        "    while True:\n",
        "        user_input = input(\"You: \").lower()\n",
        "        if \"hello\" in user_input:\n",
        "            print(\"Chatbot: Hi!\")\n",
        "        elif \"how are you\" in user_input:\n",
        "            print(\"Chatbot: I'm fine, thanks!\")\n",
        "        elif \"bye\" in user_input:\n",
        "            print(\"Chatbot: Goodbye!\")\n",
        "            break\n",
        "        else:\n",
        "            print(\"Chatbot: Sorry, I don't understand.\")\n",
        "\n",
        "chatbot()\n"
      ]
    }
  ]
}